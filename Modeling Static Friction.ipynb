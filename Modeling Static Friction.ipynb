{
 "cells": [
  {
   "cell_type": "code",
   "execution_count": 7,
   "metadata": {
    "collapsed": true
   },
   "outputs": [],
   "source": [
    "%matplotlib inline"
   ]
  },
  {
   "cell_type": "markdown",
   "metadata": {},
   "source": [
    "# Modeling Static Friction"
   ]
  },
  {
   "cell_type": "markdown",
   "metadata": {},
   "source": [
    "### Introduction:"
   ]
  },
  {
   "cell_type": "markdown",
   "metadata": {},
   "source": [
    "From everyday experience, we know that it takes a certain amount of force to overcome friction and get an object sliding. The goal of this investigation is to model the dependence of this maximum static frictional force on the mass of the object in question."
   ]
  },
  {
   "cell_type": "markdown",
   "metadata": {},
   "source": [
    "### Procedure:"
   ]
  },
  {
   "cell_type": "markdown",
   "metadata": {},
   "source": [
    "We attached a spring scale to the side of a hollow box on a level surface. Adding additional masses, we measured the amount of force it took to get the box to begin to slide. "
   ]
  },
  {
   "cell_type": "markdown",
   "metadata": {},
   "source": [
    "<figure>\n",
    "    <img src=\"img/Friction Apparatus.png\" width=400px/>\n",
    "    <figcaption style=\"text-align:center; font-size: 12px\">Fig. 1 - Sketch of the apparatus</figcaption>\n",
    "</figure>"
   ]
  },
  {
   "cell_type": "markdown",
   "metadata": {},
   "source": [
    "<figure>\n",
    "    <img src=\"img/Apparatus Photo.jpg\" width=400px/>\n",
    "    <figcaption style=\"text-align:center; font-size: 12px;\">Fig. 2 - Photo of the apparatus</figcaption>\n",
    "</figure>"
   ]
  },
  {
   "cell_type": "markdown",
   "metadata": {
    "collapsed": true
   },
   "source": [
    "### Data and Analysis:"
   ]
  },
  {
   "cell_type": "markdown",
   "metadata": {},
   "source": [
    "  | $m_{added}$  | $F_{max}$   || $m_{added}$   | $F_{max}$   || $m_{added}$  | $F_{max}$   |\n",
    "  |-----|-----|                   |-----|-----|                |-----|-----|\n",
    "  |700  | 4.0|                    |700 | .3|                   |700| 4.9|\n",
    "  | 620| 3.5|                     |620 | .32|                  |620| 4.5|                   \n",
    "  |500 | 3.0|                     |500 | .22|                  |500| 3.53|\n",
    "  | 420|2.5|                      |420 | .15|                  |420| 2.96|\n",
    "  |300 | 2.0|                     |300 | .1|                   |300| 2.12|"
   ]
  },
  {
   "cell_type": "code",
   "execution_count": 12,
   "metadata": {
    "collapsed": false
   },
   "outputs": [
    {
     "name": "stdout",
     "output_type": "stream",
     "text": [
      "0.00501990445643\n"
     ]
    },
    {
     "data": {
      "image/png": "[encoded data removed]",
      "text/plain": [
       "<matplotlib.figure.Figure at 0x7f21898>"
      ]
     },
     "metadata": {},
     "output_type": "display_data"
    }
   ],
   "source": [
    "import matplotlib.pyplot as plt\n",
    "import numpy as np\n",
    "from scipy.optimize import curve_fit\n",
    "\n",
    "\n",
    "m = [700,620,500,420,300]\n",
    "f = [4.0,3.5,3.0,2.45,2.0]\n",
    "fi = [.3,.32,.22,.15,.1]\n",
    "fn = [4.9,4.5,3.53,2.96,2.12]\n",
    "mm=np.linspace(-350,700,500)\n",
    "\n",
    "def linear (x, a, b):\n",
    "    return a*x + b\n",
    "a, b = curve_fit(linear, m, f) [0]\n",
    "print (a)\n",
    "plt.xlim(-350,1000)\n",
    "plt.title(\"Modeling Static Friction\")\n",
    "plt.xlabel( \"Mass Added (g)\")\n",
    "plt.ylabel( \"Max Frictional Force\")\n",
    "plt.plot(m,fi, '.')\n",
    "plt.plot(m,fn, '.')\n",
    "plt.plot(mm,linear(mm, a, b), '--')\n",
    "plt.show()\n"
   ]
  },
  {
   "cell_type": "markdown",
   "metadata": {
    "collapsed": true
   },
   "source": [
    "## If there is a higher amount of grams the newton numbber will be high as well. Therefore when there was 700 grams in the box , there was a total of 4 newton. Likewise if the amount of grams are lower, the newton will also will be low. This is only true for a flat surface; wehn there is an angle of 44 degrees the results are different. With the 44 degree angle at one point there will be equal reaults. For the third graph, 420 grams and 300 grams have an equal number of newtons. This project was done to determine if the results would be different if an angle was included. In order to do so my group and I took measurements by using a spring scale. The measurement chnage depending on the amount of grams used and whether or not we were measuring on a flat surface or on an angle. After the project was completed, my group and I learned that the newtons in the static friction measurement can be altered depending on if an angel is included. "
   ]
  },
  {
   "cell_type": "code",
   "execution_count": null,
   "metadata": {
    "collapsed": true
   },
   "outputs": [],
   "source": []
  }
 ],
 "metadata": {
  "anaconda-cloud": {},
  "kernelspec": {
   "display_name": "Python 3",
   "language": "python",
   "name": "python3"
  },
  "language_info": {
   "codemirror_mode": {
    "name": "ipython",
    "version": 3
   },
   "file_extension": ".py",
   "mimetype": "text/x-python",
   "name": "python",
   "nbconvert_exporter": "python",
   "pygments_lexer": "ipython3",
   "version": "3.4.4"
  }
 },
 "nbformat": 4,
 "nbformat_minor": 1
}
